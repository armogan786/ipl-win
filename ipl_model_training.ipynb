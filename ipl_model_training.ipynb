{
  "nbformat": 4,
  "nbformat_minor": 0,
  "metadata": {
    "colab": {
      "provenance": [],
      "mount_file_id": "1Vxas-ZAkr9XLHaFlsC4xeJnlJHO2PsW-",
      "authorship_tag": "ABX9TyP3yKp2fUOrBaLBSu1BEZF8",
      "include_colab_link": true
    },
    "kernelspec": {
      "name": "python3",
      "display_name": "Python 3"
    },
    "language_info": {
      "name": "python"
    }
  },
  "cells": [
    {
      "cell_type": "markdown",
      "metadata": {
        "id": "view-in-github",
        "colab_type": "text"
      },
      "source": [
        "<a href=\"https://colab.research.google.com/github/armogan786/ipl-win/blob/main/ipl_model_training.ipynb\" target=\"_parent\"><img src=\"https://colab.research.google.com/assets/colab-badge.svg\" alt=\"Open In Colab\"/></a>"
      ]
    },
    {
      "cell_type": "code",
      "execution_count": 1,
      "metadata": {
        "colab": {
          "base_uri": "https://localhost:8080/"
        },
        "id": "5HRXVXaBUYvL",
        "outputId": "bd5613b4-ce26-492f-a8a7-ea3c0b377723"
      },
      "outputs": [
        {
          "output_type": "stream",
          "name": "stderr",
          "text": [
            "/tmp/ipython-input-1-853677764.py:55: FutureWarning: A value is trying to be set on a copy of a DataFrame or Series through chained assignment using an inplace method.\n",
            "The behavior will change in pandas 3.0. This inplace method will never work because the intermediate object on which we are setting values always behaves as a copy.\n",
            "\n",
            "For example, when doing 'df[col].method(value, inplace=True)', try using 'df.method({col: value}, inplace=True)' or df[col] = df[col].method(value) instead, to perform the operation inplace on the original object.\n",
            "\n",
            "\n",
            "  second_innings['required_run_rate'].replace([np.inf, -np.inf], np.nan, inplace=True)\n"
          ]
        },
        {
          "output_type": "stream",
          "name": "stdout",
          "text": [
            "\n",
            "Logistic Regression Accuracy: 0.7903494176372712\n",
            "Logistic Regression ROC AUC: 0.8796490370059852\n",
            "\n",
            "XGBoost Accuracy: 0.762063227953411\n",
            "XGBoost ROC AUC: 0.8517722816087939\n",
            "\n",
            "Classification Report (XGBoost):\n",
            "              precision    recall  f1-score   support\n",
            "\n",
            "           0       0.78      0.85      0.81       367\n",
            "           1       0.72      0.63      0.67       234\n",
            "\n",
            "    accuracy                           0.76       601\n",
            "   macro avg       0.75      0.74      0.74       601\n",
            "weighted avg       0.76      0.76      0.76       601\n",
            "\n"
          ]
        },
        {
          "output_type": "stream",
          "name": "stderr",
          "text": [
            "/usr/local/lib/python3.11/dist-packages/xgboost/core.py:158: UserWarning: [12:43:57] WARNING: /workspace/src/learner.cc:740: \n",
            "Parameters: { \"use_label_encoder\" } are not used.\n",
            "\n",
            "  warnings.warn(smsg, UserWarning)\n"
          ]
        }
      ],
      "source": [
        "# Install required packages\n",
        "!pip install xgboost scikit-learn matplotlib seaborn pandas --quiet\n",
        "\n",
        "# Imports\n",
        "import pandas as pd\n",
        "import numpy as np\n",
        "import matplotlib.pyplot as plt\n",
        "import seaborn as sns\n",
        "from google.colab import files\n",
        "from sklearn.model_selection import train_test_split\n",
        "from sklearn.metrics import accuracy_score, roc_auc_score, confusion_matrix, classification_report\n",
        "from sklearn.linear_model import LogisticRegression\n",
        "from xgboost import XGBClassifier\n",
        "\n",
        "\n",
        "\n",
        "# Load data\n",
        "matches = pd.read_csv('/content/drive/MyDrive/Colab Notebooks/matches.csv')\n",
        "deliveries = pd.read_csv('/content/drive/MyDrive/Colab Notebooks/deliveries.csv')\n",
        "\n",
        "# Filter deliveries from matches with result\n",
        "matches = matches.dropna(subset=['winner'])\n",
        "match_ids = matches['id'].unique()\n",
        "deliveries = deliveries[deliveries['match_id'].isin(match_ids)]\n",
        "\n",
        "# Merge match winner into deliveries\n",
        "match_winner = matches[['id', 'winner']]\n",
        "match_winner.columns = ['match_id', 'match_winner']\n",
        "deliveries = deliveries.merge(match_winner, on='match_id')\n",
        "\n",
        "# Keep only 2nd innings (for prediction based on chase)\n",
        "second_innings = deliveries[deliveries['inning'] == 2].copy()\n",
        "\n",
        "# Sort to calculate features over each delivery\n",
        "second_innings = second_innings.sort_values(['match_id', 'over', 'ball'])\n",
        "\n",
        "# Calculate cumulative runs & wickets\n",
        "second_innings['current_score'] = second_innings.groupby('match_id')['total_runs'].cumsum()\n",
        "second_innings['ball_number'] = second_innings.groupby('match_id').cumcount() + 1\n",
        "second_innings['wicket'] = second_innings['player_dismissed'].notna().astype(int)\n",
        "second_innings['wickets_fallen'] = second_innings.groupby('match_id')['wicket'].cumsum()\n",
        "\n",
        "# Get target runs\n",
        "target = deliveries[deliveries['inning'] == 1].groupby('match_id')['total_runs'].sum().reset_index()\n",
        "target.columns = ['match_id', 'target']\n",
        "second_innings = second_innings.merge(target, on='match_id')\n",
        "\n",
        "# Calculate remaining runs and balls\n",
        "second_innings['runs_left'] = second_innings['target'] - second_innings['current_score']\n",
        "second_innings['balls_left'] = 120 - second_innings['ball_number']\n",
        "\n",
        "# Calculate run rate features\n",
        "second_innings['run_rate'] = second_innings['current_score'] / (second_innings['ball_number'] / 6)\n",
        "second_innings['required_run_rate'] = (second_innings['runs_left'] / second_innings['balls_left']) * 6\n",
        "second_innings['required_run_rate'].replace([np.inf, -np.inf], np.nan, inplace=True)\n",
        "second_innings = second_innings.dropna()\n",
        "\n",
        "# Final label: 1 if batting_team == match_winner\n",
        "second_innings['batting_team_won'] = (second_innings['batting_team'] == second_innings['match_winner']).astype(int)\n",
        "\n",
        "# Select features\n",
        "features = second_innings[['runs_left', 'balls_left', 'wickets_fallen', 'run_rate', 'required_run_rate']]\n",
        "labels = second_innings['batting_team_won']\n",
        "\n",
        "# Train-test split\n",
        "X_train, X_test, y_train, y_test = train_test_split(features, labels, test_size=0.2, random_state=42)\n",
        "\n",
        "# Train Logistic Regression\n",
        "lr_model = LogisticRegression(max_iter=500)\n",
        "lr_model.fit(X_train, y_train)\n",
        "lr_preds = lr_model.predict(X_test)\n",
        "\n",
        "# Train XGBoost\n",
        "xgb_model = XGBClassifier(use_label_encoder=False, eval_metric='logloss')\n",
        "xgb_model.fit(X_train, y_train)\n",
        "xgb_preds = xgb_model.predict(X_test)\n",
        "\n",
        "# Evaluation\n",
        "print(\"\\nLogistic Regression Accuracy:\", accuracy_score(y_test, lr_preds))\n",
        "print(\"Logistic Regression ROC AUC:\", roc_auc_score(y_test, lr_model.predict_proba(X_test)[:,1]))\n",
        "\n",
        "print(\"\\nXGBoost Accuracy:\", accuracy_score(y_test, xgb_preds))\n",
        "print(\"XGBoost ROC AUC:\", roc_auc_score(y_test, xgb_model.predict_proba(X_test)[:,1]))\n",
        "\n",
        "print(\"\\nClassification Report (XGBoost):\")\n",
        "print(classification_report(y_test, xgb_preds))\n"
      ]
    },
    {
      "cell_type": "code",
      "source": [
        "# Save model results to CSV\n",
        "summary_df = pd.DataFrame({\n",
        "    'Model': ['Logistic Regression', 'XGBoost'],\n",
        "    'Accuracy': [accuracy_score(y_test, lr_preds), accuracy_score(y_test, xgb_preds)],\n",
        "    'ROC_AUC': [roc_auc_score(y_test, lr_model.predict_proba(X_test)[:,1]),\n",
        "                roc_auc_score(y_test, xgb_model.predict_proba(X_test)[:,1])]\n",
        "})\n",
        "summary_df.to_csv('model_comparison.csv', index=False)\n",
        "files.download('model_comparison.csv')\n"
      ],
      "metadata": {
        "colab": {
          "base_uri": "https://localhost:8080/",
          "height": 17
        },
        "id": "91NS_sZ5XsXa",
        "outputId": "2395e65f-ea39-4e64-ad49-0ae69dace29f"
      },
      "execution_count": 2,
      "outputs": [
        {
          "output_type": "display_data",
          "data": {
            "text/plain": [
              "<IPython.core.display.Javascript object>"
            ],
            "application/javascript": [
              "\n",
              "    async function download(id, filename, size) {\n",
              "      if (!google.colab.kernel.accessAllowed) {\n",
              "        return;\n",
              "      }\n",
              "      const div = document.createElement('div');\n",
              "      const label = document.createElement('label');\n",
              "      label.textContent = `Downloading \"${filename}\": `;\n",
              "      div.appendChild(label);\n",
              "      const progress = document.createElement('progress');\n",
              "      progress.max = size;\n",
              "      div.appendChild(progress);\n",
              "      document.body.appendChild(div);\n",
              "\n",
              "      const buffers = [];\n",
              "      let downloaded = 0;\n",
              "\n",
              "      const channel = await google.colab.kernel.comms.open(id);\n",
              "      // Send a message to notify the kernel that we're ready.\n",
              "      channel.send({})\n",
              "\n",
              "      for await (const message of channel.messages) {\n",
              "        // Send a message to notify the kernel that we're ready.\n",
              "        channel.send({})\n",
              "        if (message.buffers) {\n",
              "          for (const buffer of message.buffers) {\n",
              "            buffers.push(buffer);\n",
              "            downloaded += buffer.byteLength;\n",
              "            progress.value = downloaded;\n",
              "          }\n",
              "        }\n",
              "      }\n",
              "      const blob = new Blob(buffers, {type: 'application/binary'});\n",
              "      const a = document.createElement('a');\n",
              "      a.href = window.URL.createObjectURL(blob);\n",
              "      a.download = filename;\n",
              "      div.appendChild(a);\n",
              "      a.click();\n",
              "      div.remove();\n",
              "    }\n",
              "  "
            ]
          },
          "metadata": {}
        },
        {
          "output_type": "display_data",
          "data": {
            "text/plain": [
              "<IPython.core.display.Javascript object>"
            ],
            "application/javascript": [
              "download(\"download_65dea799-72d2-4dd3-a885-06e43564394a\", \"model_comparison.csv\", 126)"
            ]
          },
          "metadata": {}
        }
      ]
    },
    {
      "cell_type": "code",
      "source": [
        "import joblib\n",
        "\n",
        "# Save the model\n",
        "joblib.dump(xgb_model, 'xgb_model.pkl')\n"
      ],
      "metadata": {
        "colab": {
          "base_uri": "https://localhost:8080/"
        },
        "id": "ItgTIUeBaeqH",
        "outputId": "38c21c04-a1c3-4d60-ca94-2f23a3c39701"
      },
      "execution_count": 5,
      "outputs": [
        {
          "output_type": "execute_result",
          "data": {
            "text/plain": [
              "['xgb_model.pkl']"
            ]
          },
          "metadata": {},
          "execution_count": 5
        }
      ]
    },
    {
      "cell_type": "code",
      "source": [
        "from google.colab import files\n",
        "\n",
        "# Download the file to your computer\n",
        "files.download('xgb_model.pkl')\n"
      ],
      "metadata": {
        "colab": {
          "base_uri": "https://localhost:8080/",
          "height": 17
        },
        "id": "N-E1J5XsbFBh",
        "outputId": "791a9135-4d41-4119-a35e-2c1f113de7da"
      },
      "execution_count": 6,
      "outputs": [
        {
          "output_type": "display_data",
          "data": {
            "text/plain": [
              "<IPython.core.display.Javascript object>"
            ],
            "application/javascript": [
              "\n",
              "    async function download(id, filename, size) {\n",
              "      if (!google.colab.kernel.accessAllowed) {\n",
              "        return;\n",
              "      }\n",
              "      const div = document.createElement('div');\n",
              "      const label = document.createElement('label');\n",
              "      label.textContent = `Downloading \"${filename}\": `;\n",
              "      div.appendChild(label);\n",
              "      const progress = document.createElement('progress');\n",
              "      progress.max = size;\n",
              "      div.appendChild(progress);\n",
              "      document.body.appendChild(div);\n",
              "\n",
              "      const buffers = [];\n",
              "      let downloaded = 0;\n",
              "\n",
              "      const channel = await google.colab.kernel.comms.open(id);\n",
              "      // Send a message to notify the kernel that we're ready.\n",
              "      channel.send({})\n",
              "\n",
              "      for await (const message of channel.messages) {\n",
              "        // Send a message to notify the kernel that we're ready.\n",
              "        channel.send({})\n",
              "        if (message.buffers) {\n",
              "          for (const buffer of message.buffers) {\n",
              "            buffers.push(buffer);\n",
              "            downloaded += buffer.byteLength;\n",
              "            progress.value = downloaded;\n",
              "          }\n",
              "        }\n",
              "      }\n",
              "      const blob = new Blob(buffers, {type: 'application/binary'});\n",
              "      const a = document.createElement('a');\n",
              "      a.href = window.URL.createObjectURL(blob);\n",
              "      a.download = filename;\n",
              "      div.appendChild(a);\n",
              "      a.click();\n",
              "      div.remove();\n",
              "    }\n",
              "  "
            ]
          },
          "metadata": {}
        },
        {
          "output_type": "display_data",
          "data": {
            "text/plain": [
              "<IPython.core.display.Javascript object>"
            ],
            "application/javascript": [
              "download(\"download_53ecd655-a279-4539-ab91-fb2e740c74ae\", \"xgb_model.pkl\", 229000)"
            ]
          },
          "metadata": {}
        }
      ]
    }
  ]
}